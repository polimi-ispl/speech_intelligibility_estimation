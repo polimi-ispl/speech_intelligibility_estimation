{
 "cells": [
  {
   "cell_type": "code",
   "execution_count": 1,
   "metadata": {},
   "outputs": [],
   "source": [
    "import pandas as pd\n",
    "import sklearn.model_selection\n",
    "import sklearn.metrics\n",
    "import tqdm\n",
    "import os\n",
    "import numpy as np"
   ]
  },
  {
   "cell_type": "code",
   "execution_count": 3,
   "metadata": {},
   "outputs": [
    {
     "name": "stderr",
     "output_type": "stream",
     "text": [
      " 17%|█▋        | 16/96 [00:02<00:13,  5.84it/s]/nas/home/cborrelli/miniconda/lib/python3.7/site-packages/sklearn/metrics/classification.py:1437: UndefinedMetricWarning: F-score is ill-defined and being set to 0.0 due to no predicted samples.\n",
      "  'precision', 'predicted', average, warn_for)\n",
      " 18%|█▊        | 17/96 [00:02<00:12,  6.17it/s]/nas/home/cborrelli/miniconda/lib/python3.7/site-packages/sklearn/metrics/classification.py:1437: UndefinedMetricWarning: F-score is ill-defined and being set to 0.0 due to no predicted samples.\n",
      "  'precision', 'predicted', average, warn_for)\n",
      " 19%|█▉        | 18/96 [00:02<00:13,  5.91it/s]/nas/home/cborrelli/miniconda/lib/python3.7/site-packages/sklearn/metrics/classification.py:1437: UndefinedMetricWarning: F-score is ill-defined and being set to 0.0 due to no predicted samples.\n",
      "  'precision', 'predicted', average, warn_for)\n",
      " 20%|█▉        | 19/96 [00:03<00:12,  6.23it/s]/nas/home/cborrelli/miniconda/lib/python3.7/site-packages/sklearn/metrics/classification.py:1437: UndefinedMetricWarning: F-score is ill-defined and being set to 0.0 due to no predicted samples.\n",
      "  'precision', 'predicted', average, warn_for)\n",
      " 42%|████▏     | 40/96 [00:07<00:13,  4.29it/s]/nas/home/cborrelli/miniconda/lib/python3.7/site-packages/sklearn/metrics/classification.py:1437: UndefinedMetricWarning: F-score is ill-defined and being set to 0.0 due to no predicted samples.\n",
      "  'precision', 'predicted', average, warn_for)\n",
      " 43%|████▎     | 41/96 [00:07<00:12,  4.50it/s]/nas/home/cborrelli/miniconda/lib/python3.7/site-packages/sklearn/metrics/classification.py:1437: UndefinedMetricWarning: F-score is ill-defined and being set to 0.0 due to no predicted samples.\n",
      "  'precision', 'predicted', average, warn_for)\n",
      " 44%|████▍     | 42/96 [00:08<00:12,  4.35it/s]/nas/home/cborrelli/miniconda/lib/python3.7/site-packages/sklearn/metrics/classification.py:1437: UndefinedMetricWarning: F-score is ill-defined and being set to 0.0 due to no predicted samples.\n",
      "  'precision', 'predicted', average, warn_for)\n",
      " 45%|████▍     | 43/96 [00:08<00:11,  4.54it/s]/nas/home/cborrelli/miniconda/lib/python3.7/site-packages/sklearn/metrics/classification.py:1437: UndefinedMetricWarning: F-score is ill-defined and being set to 0.0 due to no predicted samples.\n",
      "  'precision', 'predicted', average, warn_for)\n",
      "100%|██████████| 96/96 [00:18<00:00,  4.30it/s]\n"
     ]
    }
   ],
   "source": [
    "result_folder = '/nas/home/cborrelli/speech_forensics/results'\n",
    "param_dict = {'norm': ['minmax', 'zscore', 'nonorm'],\n",
    "                  'filter_outliers': [True, False],\n",
    "                  'rms_th': [0, 0.25, 0.50, 0.75],\n",
    "                  'alg': ['svm', 'rf'],\n",
    "                  'win_min_max': [True, False]\n",
    "                  }\n",
    "param_list = sklearn.model_selection.ParameterGrid(param_dict)\n",
    "\n",
    "col = ['name', 'norm', 'filter_outlier', 'rms_th', 'alg', 'win_min_max', 'cl_balanced_accuracy', 'cl_f1',  \n",
    "       'mcl_balanced_accuracy', 'mcl_f1', 'r_R2', 'r_mae']\n",
    "\n",
    "results = pd.DataFrame(columns=col)\n",
    "\n",
    "for params in tqdm.tqdm(param_list):\n",
    "    res_file_name = 'res_norm-{}_outliers-{}_rms-{}_alg-{}_win-{}.pkl'.format(params['norm'],\n",
    "                                                                              params['filter_outliers'],\n",
    "                                                                              str(params['rms_th']).replace('.', ''),\n",
    "                                                                              params['alg'],\n",
    "                                                                              params['win_min_max'])\n",
    "    res_df = pd.read_pickle(os.path.join(result_folder, res_file_name))\n",
    "    \n",
    "    \n",
    "    y_cl_true = np.array(res_df['y_value'], dtype=np.float) >= 0.5\n",
    "    cl_balanced_accuracy = sklearn.metrics.balanced_accuracy_score(y_cl_true, res_df['y_pred_cl'])\n",
    "    cl_f1_score = sklearn.metrics.f1_score(y_cl_true, res_df['y_pred_cl'])\n",
    "    \n",
    "    y_mcl_true = np.array(res_df['y_label'], dtype=np.float) - 1  # labels for classification\n",
    "    mcl_balanced_accuracy = sklearn.metrics.accuracy_score(y_mcl_true, res_df['y_pred_mcl'])\n",
    "    mcl_f1= sklearn.metrics.f1_score(y_mcl_true, res_df['y_pred_mcl'], average='micro')\n",
    "    \n",
    "    y_r_true = np.array(res_df['y_value'], dtype=np.float)  #  values for regression\n",
    "    r_R2 = sklearn.metrics.r2_score(y_r_true, res_df['y_pred_r'])\n",
    "    r_mae = sklearn.metrics.mean_absolute_error(y_r_true, res_df['y_pred_r'])\n",
    "    \n",
    "    newrow = pd.DataFrame( [[res_file_name, params['norm'], params['filter_outliers'], params['rms_th'], params['alg'], \n",
    "                            params['win_min_max'], cl_balanced_accuracy, cl_f1_score, mcl_balanced_accuracy, mcl_f1,\n",
    "                            r_R2, r_mae]],\n",
    "                    columns=col)\n",
    "    results = results.append(newrow, ignore_index=True)\n",
    "    \n",
    "\n",
    "\n",
    "\n",
    "\n",
    "    \n",
    "    \n",
    "    \n",
    "\n"
   ]
  },
  {
   "cell_type": "code",
   "execution_count": null,
   "metadata": {},
   "outputs": [],
   "source": [
    "results.sort_values(by='cl_balanced_accuracy', ascending=False)"
   ]
  },
  {
   "cell_type": "code",
   "execution_count": null,
   "metadata": {},
   "outputs": [],
   "source": [
    "param_list.param_grid"
   ]
  },
  {
   "cell_type": "code",
   "execution_count": null,
   "metadata": {},
   "outputs": [],
   "source": []
  }
 ],
 "metadata": {
  "kernelspec": {
   "display_name": "Python 3",
   "language": "python",
   "name": "python3"
  },
  "language_info": {
   "codemirror_mode": {
    "name": "ipython",
    "version": 3
   },
   "file_extension": ".py",
   "mimetype": "text/x-python",
   "name": "python",
   "nbconvert_exporter": "python",
   "pygments_lexer": "ipython3",
   "version": "3.7.3"
  }
 },
 "nbformat": 4,
 "nbformat_minor": 2
}
