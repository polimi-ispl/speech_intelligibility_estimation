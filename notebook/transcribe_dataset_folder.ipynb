{
 "cells": [
  {
   "cell_type": "code",
   "execution_count": 2,
   "metadata": {},
   "outputs": [],
   "source": [
    "import speech_recognition as sr\n",
    "import pandas as pd\n",
    "import os \n",
    "from multiprocessing import Pool, cpu_count\n",
    "from functools import partial\n",
    "from tqdm import tqdm\n"
   ]
  },
  {
   "cell_type": "markdown",
   "metadata": {},
   "source": [
    "# Transcribe a folder of the dataset with a transcriber"
   ]
  },
  {
   "cell_type": "code",
   "execution_count": 3,
   "metadata": {},
   "outputs": [],
   "source": [
    "def transcribe(song_path, transcriber):\n",
    "    # if file does not exist\n",
    "    dest_path = song_path.replace('dataset', transcriber)\n",
    "    dest_path = dest_path.replace(dest_path.split('.')[-1], 'txt')\n",
    "    \n",
    "    if os.path.exists(dest_path):\n",
    "        return\n",
    "    r = sr.Recognizer()\n",
    "    with sr.AudioFile(song_path) as source:\n",
    "        audio = r.record(source)  # read the entire audio file\n",
    "\n",
    "    # here depending on transcriber argument we will switch on different methods\n",
    "    if transcriber == 'sphinx':\n",
    "        transcription = r.recognize_sphinx(audio)\n",
    "    else:\n",
    "        transcription = ''\n",
    "\n",
    "    try:\n",
    "        os.makedirs(os.path.dirname(dest_path))\n",
    "    except:\n",
    "        pass\n",
    "\n",
    "    with open(dest_path, \"w\") as text_file:\n",
    "        text_file.write(transcription)  # TODO: controlla\n",
    "    return\n",
    "\n",
    "\n",
    "def dataset_transcription(dataset_csv_path, transcriber):\n",
    "    orig_df = pd.read_csv(dataset_csv_path)\n",
    "    audio_path_list = orig_df['path'].to_list()\n",
    "    f_part = partial(transcribe, transcriber=transcriber)\n",
    "    pool = Pool(cpu_count())\n",
    "    for _ in tqdm(pool.imap_unordered(f_part, audio_path_list), total=len(audio_path_list)):\n",
    "        pass\n",
    "    pool.close()\n",
    "    return"
   ]
  },
  {
   "cell_type": "markdown",
   "metadata": {},
   "source": [
    "## Run from here"
   ]
  },
  {
   "cell_type": "code",
   "execution_count": null,
   "metadata": {},
   "outputs": [
    {
     "name": "stderr",
     "output_type": "stream",
     "text": [
      " 10%|▉         | 10021/104014 [42:39<18:02:59,  1.45it/s]"
     ]
    }
   ],
   "source": [
    "dataset_name = ['train-clean-360']\n",
    "for a in dataset_name:\n",
    "    in_csv_path = '/nas/home/cborrelli/speech_forensics/csv/' + a +'.csv'\n",
    "    trans = 'sphinx'\n",
    "    dataset_transcription(in_csv_path, trans)"
   ]
  },
  {
   "cell_type": "code",
   "execution_count": null,
   "metadata": {},
   "outputs": [],
   "source": []
  },
  {
   "cell_type": "code",
   "execution_count": null,
   "metadata": {},
   "outputs": [],
   "source": []
  }
 ],
 "metadata": {
  "kernelspec": {
   "display_name": "Python 3",
   "language": "python",
   "name": "python3"
  },
  "language_info": {
   "codemirror_mode": {
    "name": "ipython",
    "version": 3
   },
   "file_extension": ".py",
   "mimetype": "text/x-python",
   "name": "python",
   "nbconvert_exporter": "python",
   "pygments_lexer": "ipython3",
   "version": "3.7.3"
  }
 },
 "nbformat": 4,
 "nbformat_minor": 2
}
